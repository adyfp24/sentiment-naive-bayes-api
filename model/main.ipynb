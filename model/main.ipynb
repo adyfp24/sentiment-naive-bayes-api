{
 "cells": [
  {
   "cell_type": "markdown",
   "id": "9e607233",
   "metadata": {},
   "source": [
    "\"\"\"\n",
    "# Sentiment Analysis on YouTube Public Policy Comments\n",
    "**Naive Bayes Classifier for Indonesian Comments**\n",
    "\"\"\""
   ]
  },
  {
   "cell_type": "code",
   "execution_count": null,
   "id": "83cd5b95",
   "metadata": {},
   "outputs": [
    {
     "ename": "",
     "evalue": "",
     "output_type": "error",
     "traceback": [
      "\u001b[1;31mRunning cells with 'ml-naive-bayes (Python 3.9.6)' requires the ipykernel package.\n",
      "\u001b[1;31mInstall 'ipykernel' into the Python environment. \n",
      "\u001b[1;31mCommand: '/Users/adyfirdaus/Documents/my_documents/kuliah/ai/ml-naive-bayes/bin/python -m pip install ipykernel -U --force-reinstall'"
     ]
    }
   ],
   "source": [
    "# %% [1] Import Libraries\n",
    "import pandas as pd\n",
    "import re\n",
    "import nltk\n",
    "from nltk.corpus import stopwords\n",
    "from nltk.tokenize import word_tokenize\n",
    "from sklearn.feature_extraction.text import TfidfVectorizer\n",
    "from sklearn.naive_bayes import MultinomialNB\n",
    "from sklearn.model_selection import train_test_split\n",
    "from sklearn.metrics import classification_report\n",
    "from sklearn.pipeline import Pipeline\n",
    "\n",
    "nltk.download('punkt')\n",
    "nltk.download('stopwords')"
   ]
  },
  {
   "cell_type": "code",
   "execution_count": null,
   "id": "f80ed8ca",
   "metadata": {},
   "outputs": [],
   "source": [
    "\n",
    "# %% [2] Load Comments Data\n",
    "comments_df = pd.read_csv('yt_comment_sample.csv')[['text']]  # Only load comments\n",
    "print(f\"Total Comments: {len(comments_df)}\")\n"
   ]
  },
  {
   "cell_type": "code",
   "execution_count": null,
   "id": "abca0ae6",
   "metadata": {},
   "outputs": [],
   "source": [
    "# %% [3] Text Cleaning\n",
    "def clean_comment(text):\n",
    "    if pd.isna(text): \n",
    "        return \"\"\n",
    "    \n",
    "    # Lowercase + remove URLs/emojis/special chars\n",
    "    text = text.lower()\n",
    "    text = re.sub(r'http\\S+|www\\S+|https\\S+', '', text)\n",
    "    text = re.sub(r'[^\\w\\s]|[\\d_]', '', text)  # Remove punctuation/numbers\n",
    "    text = re.sub(r'\\s+', ' ', text).strip()\n",
    "    return text\n",
    "\n",
    "comments_df['cleaned_text'] = comments_df['text'].apply(clean_comment)\n"
   ]
  },
  {
   "cell_type": "code",
   "execution_count": null,
   "id": "223fb1f1",
   "metadata": {},
   "outputs": [],
   "source": [
    "# %% [4] Tokenization & Stopword Removal\n",
    "stop_words = set(stopwords.words('indonesian') + list(stopwords.words('english')))\n",
    "\n",
    "def tokenize(text):\n",
    "    tokens = word_tokenize(text)\n",
    "    return ' '.join([word for word in tokens if word not in stop_words])\n",
    "\n",
    "comments_df['processed_text'] = comments_df['cleaned_text'].apply(tokenize)"
   ]
  },
  {
   "cell_type": "code",
   "execution_count": null,
   "id": "01e6200d",
   "metadata": {},
   "outputs": [],
   "source": [
    "# %% [5] Load Labeled Data (PREPARE THIS FIRST)\n",
    "# Format: CSV with columns [text, sentiment] \n",
    "# sentiment values: 1 (positive), 0 (neutral), -1 (negative)\n",
    "labeled_data = pd.read_csv('labeled_comments.csv')  # Replace with your labeled data\n",
    "print(\"Label Distribution:\\n\", labeled_data['sentiment'].value_counts())\n"
   ]
  },
  {
   "cell_type": "code",
   "execution_count": null,
   "id": "ee3ec660",
   "metadata": {},
   "outputs": [],
   "source": [
    "# %% [6] Build and Train Model\n",
    "X = labeled_data['text']  # Original text\n",
    "y = labeled_data['sentiment']\n",
    "\n",
    "# Split data\n",
    "X_train, X_test, y_train, y_test = train_test_split(\n",
    "    X, y, test_size=0.2, random_state=42\n",
    ")\n",
    "\n",
    "# Model pipeline\n",
    "model = Pipeline([\n",
    "    ('tfidf', TfidfVectorizer(max_features=5000)),\n",
    "    ('nb', MultinomialNB())\n",
    "])\n",
    "\n",
    "model.fit(X_train, y_train)\n",
    "\n",
    "# Evaluate\n",
    "y_pred = model.predict(X_test)\n",
    "print(classification_report(y_test, y_pred))\n"
   ]
  },
  {
   "cell_type": "code",
   "execution_count": null,
   "id": "ec2f32e5",
   "metadata": {},
   "outputs": [],
   "source": [
    "# %% [7] Predict Sentiment for All Comments\n",
    "comments_df['sentiment'] = model.predict(comments_df['text'])  # Predict on raw text\n",
    "\n",
    "# Save results\n",
    "comments_df[['text', 'sentiment']].to_csv('comment_sentiments.csv', index=False)\n",
    "print(\"Results saved to comment_sentiments.csv\")\n"
   ]
  },
  {
   "cell_type": "code",
   "execution_count": null,
   "id": "189972fb",
   "metadata": {},
   "outputs": [],
   "source": [
    "# %% [8] Quick Analysis\n",
    "sentiment_counts = comments_df['sentiment'].value_counts()\n",
    "print(\"\\nSentiment Distribution:\")\n",
    "print(sentiment_counts)\n",
    "\n",
    "# Sample positive/negative comments\n",
    "print(\"\\nSample Positive Comments:\")\n",
    "print(comments_df[comments_df['sentiment'] == 1]['text'].head(3).values)\n",
    "print(\"\\nSample Negative Comments:\")\n",
    "print(comments_df[comments_df['sentiment'] == -1]['text'].head(3).values)"
   ]
  }
 ],
 "metadata": {
  "kernelspec": {
   "display_name": "ml-naive-bayes",
   "language": "python",
   "name": "python3"
  },
  "language_info": {
   "name": "python",
   "version": "3.9.6"
  }
 },
 "nbformat": 4,
 "nbformat_minor": 5
}
